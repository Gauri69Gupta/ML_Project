{
 "cells": [
  {
   "cell_type": "markdown",
   "metadata": {},
   "source": [
    "# IMDB Review Classifier"
   ]
  },
  {
   "cell_type": "code",
   "execution_count": 2,
   "metadata": {},
   "outputs": [],
   "source": [
    "import pandas as pd              # Data Manipulation\n",
    "import numpy as np               # Numerical computation\n",
    "import seaborn as sns            # Visualisations\n",
    "import matplotlib.pyplot as plt  # Visualisation Tools\n",
    "import datetime                  # Functions related to date and time"
   ]
  },
  {
   "cell_type": "code",
   "execution_count": 3,
   "metadata": {},
   "outputs": [
    {
     "name": "stdout",
     "output_type": "stream",
     "text": [
      "                                                Review  Sentiment\n",
      "0    A very, very, very slow-moving, aimless movie ...          0\n",
      "1    Not sure who was more lost - the flat characte...          0\n",
      "2    Attempting artiness with black & white and cle...          0\n",
      "3         Very little music or anything to speak of.            0\n",
      "4    The best scene in the movie was when Gerardo i...          1\n",
      "5    The rest of the movie lacks art, charm, meanin...          0\n",
      "6                                  Wasted two hours.            0\n",
      "7    Saw the movie today and thought it was a good ...          1\n",
      "8                                 A bit predictable.            0\n",
      "9    Loved the casting of Jimmy Buffet as the scien...          1\n",
      "10                And those baby owls were adorable.            1\n",
      "11   The movie showed a lot of Florida at it's best...          1\n",
      "12   The Songs Were The Best And The Muppets Were S...          1\n",
      "13                                   It Was So Cool.            1\n",
      "14   This is a very \"right on case\" movie that deli...          1\n",
      "15   It had some average acting from the main perso...          0\n",
      "16   This review is long overdue, since I consider ...          1\n",
      "17   I'll put this gem up against any movie in term...          1\n",
      "18   It's practically perfect in all of them  a tr...          1\n",
      "19    The structure of this film is easily the most...          0\n",
      "20   This if the first movie I've given a 10 to in ...          1\n",
      "21   If there was ever a movie that needed word-of-...          1\n",
      "22   Overall, the film is interesting and thought-p...          1\n",
      "23   Plus, it was well-paced and suited its relativ...          1\n",
      "24                             Give this one a look.            1\n",
      "25                                    I gave it a 10            1\n",
      "26   The Wind and the Lion is well written and supe...          1\n",
      "27                             It is a true classic.            1\n",
      "28   It actually turned out to be pretty decent as ...          1\n",
      "29                    Definitely worth checking out.            1\n",
      "..                                                 ...        ...\n",
      "717  Enough can not be said of the remarkable anima...          1\n",
      "718  The art style has the appearance of crayon/pen...          1\n",
      "719  If you act in such a film, you should be glad ...          0\n",
      "720  This one wants to surf on the small wave of sp...          0\n",
      "721  If you haven't choked in your own vomit by the...          0\n",
      "722  Still, it makes up for all of this with a supe...          1\n",
      "723  Just consider the excellent story, solid actin...          1\n",
      "724  Instead, we got a bore fest about a whiny, spo...          0\n",
      "725  Then I watched it again two Sundays ago (March...          1\n",
      "726       It is a very well acted and done TV Movie.            1\n",
      "727  Judith Light is one of my favorite actresses a...          1\n",
      "728                I keep watching it over and over.            1\n",
      "729                 It's a sad movie, but very good.            1\n",
      "730  If you have not seen this movie, I definitely ...          1\n",
      "731           She is as lovely as usual, this cutie!            1\n",
      "732  Still it's quite interesting and entertaining ...          1\n",
      "733                    ;) Recommend with confidence!            1\n",
      "734  This movie is well-balanced with comedy and dr...          1\n",
      "735  It was a riot to see Hugo Weaving play a sex-o...          1\n",
      "736  :) Anyway, the plot flowed smoothly and the ma...          1\n",
      "737  The opening sequence of this gem is a classic,...          1\n",
      "738             Fans of the genre will be in heaven.            1\n",
      "739                Lange had become a great actress.            1\n",
      "740                It looked like a wonderful story.            1\n",
      "741            I never walked out of a movie faster.            0\n",
      "742  I just got bored watching Jessice Lange take h...          0\n",
      "743  Unfortunately, any virtue in this film's produ...          0\n",
      "744                   In a word, it is embarrassing.            0\n",
      "745                               Exceptionally bad!            0\n",
      "746  All in all its an insult to one's intelligence...          0\n",
      "\n",
      "[747 rows x 2 columns]\n"
     ]
    },
    {
     "data": {
      "text/plain": [
       "Review       0\n",
       "Sentiment    0\n",
       "dtype: int64"
      ]
     },
     "execution_count": 3,
     "metadata": {},
     "output_type": "execute_result"
    }
   ],
   "source": [
    "colnames=['Review','Sentiment']\n",
    "df = pd.read_csv('C:/Users/hp/Downloads/imdb_labelled.txt',sep='\\t', names=colnames,header=None)\n",
    "print(df)\n",
    "df.isnull().sum()"
   ]
  },
  {
   "cell_type": "code",
   "execution_count": 4,
   "metadata": {},
   "outputs": [
    {
     "data": {
      "text/html": [
       "<div>\n",
       "<style scoped>\n",
       "    .dataframe tbody tr th:only-of-type {\n",
       "        vertical-align: middle;\n",
       "    }\n",
       "\n",
       "    .dataframe tbody tr th {\n",
       "        vertical-align: top;\n",
       "    }\n",
       "\n",
       "    .dataframe thead th {\n",
       "        text-align: right;\n",
       "    }\n",
       "</style>\n",
       "<table border=\"1\" class=\"dataframe\">\n",
       "  <thead>\n",
       "    <tr style=\"text-align: right;\">\n",
       "      <th></th>\n",
       "      <th>Review</th>\n",
       "      <th>Sentiment</th>\n",
       "    </tr>\n",
       "  </thead>\n",
       "  <tbody>\n",
       "    <tr>\n",
       "      <th>0</th>\n",
       "      <td>A very, very, very slow-moving, aimless movie ...</td>\n",
       "      <td>0</td>\n",
       "    </tr>\n",
       "    <tr>\n",
       "      <th>1</th>\n",
       "      <td>Not sure who was more lost - the flat characte...</td>\n",
       "      <td>0</td>\n",
       "    </tr>\n",
       "    <tr>\n",
       "      <th>2</th>\n",
       "      <td>Attempting artiness with black &amp; white and cle...</td>\n",
       "      <td>0</td>\n",
       "    </tr>\n",
       "    <tr>\n",
       "      <th>3</th>\n",
       "      <td>Very little music or anything to speak of.</td>\n",
       "      <td>0</td>\n",
       "    </tr>\n",
       "    <tr>\n",
       "      <th>4</th>\n",
       "      <td>The best scene in the movie was when Gerardo i...</td>\n",
       "      <td>1</td>\n",
       "    </tr>\n",
       "    <tr>\n",
       "      <th>5</th>\n",
       "      <td>The rest of the movie lacks art, charm, meanin...</td>\n",
       "      <td>0</td>\n",
       "    </tr>\n",
       "    <tr>\n",
       "      <th>6</th>\n",
       "      <td>Wasted two hours.</td>\n",
       "      <td>0</td>\n",
       "    </tr>\n",
       "  </tbody>\n",
       "</table>\n",
       "</div>"
      ],
      "text/plain": [
       "                                              Review  Sentiment\n",
       "0  A very, very, very slow-moving, aimless movie ...          0\n",
       "1  Not sure who was more lost - the flat characte...          0\n",
       "2  Attempting artiness with black & white and cle...          0\n",
       "3       Very little music or anything to speak of.            0\n",
       "4  The best scene in the movie was when Gerardo i...          1\n",
       "5  The rest of the movie lacks art, charm, meanin...          0\n",
       "6                                Wasted two hours.            0"
      ]
     },
     "execution_count": 4,
     "metadata": {},
     "output_type": "execute_result"
    }
   ],
   "source": [
    "df.head(7)                    #Prints first 7 rows from dataset"
   ]
  },
  {
   "cell_type": "code",
   "execution_count": 5,
   "metadata": {},
   "outputs": [
    {
     "data": {
      "text/html": [
       "<div>\n",
       "<style scoped>\n",
       "    .dataframe tbody tr th:only-of-type {\n",
       "        vertical-align: middle;\n",
       "    }\n",
       "\n",
       "    .dataframe tbody tr th {\n",
       "        vertical-align: top;\n",
       "    }\n",
       "\n",
       "    .dataframe thead th {\n",
       "        text-align: right;\n",
       "    }\n",
       "</style>\n",
       "<table border=\"1\" class=\"dataframe\">\n",
       "  <thead>\n",
       "    <tr style=\"text-align: right;\">\n",
       "      <th></th>\n",
       "      <th>Review</th>\n",
       "      <th>Sentiment</th>\n",
       "    </tr>\n",
       "  </thead>\n",
       "  <tbody>\n",
       "    <tr>\n",
       "      <th>740</th>\n",
       "      <td>It looked like a wonderful story.</td>\n",
       "      <td>1</td>\n",
       "    </tr>\n",
       "    <tr>\n",
       "      <th>741</th>\n",
       "      <td>I never walked out of a movie faster.</td>\n",
       "      <td>0</td>\n",
       "    </tr>\n",
       "    <tr>\n",
       "      <th>742</th>\n",
       "      <td>I just got bored watching Jessice Lange take h...</td>\n",
       "      <td>0</td>\n",
       "    </tr>\n",
       "    <tr>\n",
       "      <th>743</th>\n",
       "      <td>Unfortunately, any virtue in this film's produ...</td>\n",
       "      <td>0</td>\n",
       "    </tr>\n",
       "    <tr>\n",
       "      <th>744</th>\n",
       "      <td>In a word, it is embarrassing.</td>\n",
       "      <td>0</td>\n",
       "    </tr>\n",
       "    <tr>\n",
       "      <th>745</th>\n",
       "      <td>Exceptionally bad!</td>\n",
       "      <td>0</td>\n",
       "    </tr>\n",
       "    <tr>\n",
       "      <th>746</th>\n",
       "      <td>All in all its an insult to one's intelligence...</td>\n",
       "      <td>0</td>\n",
       "    </tr>\n",
       "  </tbody>\n",
       "</table>\n",
       "</div>"
      ],
      "text/plain": [
       "                                                Review  Sentiment\n",
       "740                It looked like a wonderful story.            1\n",
       "741            I never walked out of a movie faster.            0\n",
       "742  I just got bored watching Jessice Lange take h...          0\n",
       "743  Unfortunately, any virtue in this film's produ...          0\n",
       "744                   In a word, it is embarrassing.            0\n",
       "745                               Exceptionally bad!            0\n",
       "746  All in all its an insult to one's intelligence...          0"
      ]
     },
     "execution_count": 5,
     "metadata": {},
     "output_type": "execute_result"
    }
   ],
   "source": [
    "df.tail(7)                    #Prints last 7 rows from dataset"
   ]
  },
  {
   "cell_type": "code",
   "execution_count": 6,
   "metadata": {},
   "outputs": [
    {
     "data": {
      "text/plain": [
       "1    385\n",
       "0    362\n",
       "Name: Sentiment, dtype: int64"
      ]
     },
     "execution_count": 6,
     "metadata": {},
     "output_type": "execute_result"
    }
   ],
   "source": [
    "df['Sentiment'].value_counts()    #Counts the occourance of each catagory"
   ]
  },
  {
   "cell_type": "code",
   "execution_count": 7,
   "metadata": {},
   "outputs": [
    {
     "data": {
      "text/plain": [
       "(747, 2)"
      ]
     },
     "execution_count": 7,
     "metadata": {},
     "output_type": "execute_result"
    }
   ],
   "source": [
    "df.shape"
   ]
  },
  {
   "cell_type": "code",
   "execution_count": 8,
   "metadata": {},
   "outputs": [
    {
     "data": {
      "text/plain": [
       "<matplotlib.axes._subplots.AxesSubplot at 0x2700c0b34e0>"
      ]
     },
     "execution_count": 8,
     "metadata": {},
     "output_type": "execute_result"
    },
    {
     "data": {
      "image/png": "[encoded data removed]",
      "text/plain": [
       "<Figure size 432x288 with 1 Axes>"
      ]
     },
     "metadata": {},
     "output_type": "display_data"
    }
   ],
   "source": [
    "sns.countplot(x='Sentiment', data=df)"
   ]
  },
  {
   "cell_type": "code",
   "execution_count": 8,
   "metadata": {},
   "outputs": [
    {
     "data": {
      "text/plain": [
       "0      False\n",
       "1      False\n",
       "2      False\n",
       "3      False\n",
       "4      False\n",
       "5      False\n",
       "6      False\n",
       "7      False\n",
       "8      False\n",
       "9      False\n",
       "10     False\n",
       "11     False\n",
       "12     False\n",
       "13     False\n",
       "14     False\n",
       "15     False\n",
       "16     False\n",
       "17     False\n",
       "18     False\n",
       "19     False\n",
       "20     False\n",
       "21     False\n",
       "22     False\n",
       "23     False\n",
       "24     False\n",
       "25     False\n",
       "26     False\n",
       "27     False\n",
       "28     False\n",
       "29     False\n",
       "       ...  \n",
       "718    False\n",
       "719    False\n",
       "720    False\n",
       "721    False\n",
       "722    False\n",
       "723    False\n",
       "724    False\n",
       "725    False\n",
       "726    False\n",
       "727    False\n",
       "728    False\n",
       "729    False\n",
       "730    False\n",
       "731    False\n",
       "732    False\n",
       "733    False\n",
       "734    False\n",
       "735    False\n",
       "736    False\n",
       "737    False\n",
       "738    False\n",
       "739    False\n",
       "740    False\n",
       "741    False\n",
       "742    False\n",
       "743    False\n",
       "744    False\n",
       "745    False\n",
       "746    False\n",
       "747    False\n",
       "Length: 748, dtype: bool"
      ]
     },
     "execution_count": 8,
     "metadata": {},
     "output_type": "execute_result"
    }
   ],
   "source": [
    "df.duplicated()  # Checking for duplicacy."
   ]
  },
  {
   "cell_type": "code",
   "execution_count": 9,
   "metadata": {},
   "outputs": [
    {
     "data": {
      "text/plain": [
       "False    744\n",
       "True       3\n",
       "dtype: int64"
      ]
     },
     "execution_count": 9,
     "metadata": {},
     "output_type": "execute_result"
    }
   ],
   "source": [
    "dupli=df.duplicated()  \n",
    "dupli.value_counts()"
   ]
  },
  {
   "cell_type": "code",
   "execution_count": 10,
   "metadata": {},
   "outputs": [],
   "source": [
    "x = df.Review       \n",
    "y = df.Sentiment"
   ]
  },
  {
   "cell_type": "code",
   "execution_count": 11,
   "metadata": {},
   "outputs": [
    {
     "name": "stdout",
     "output_type": "stream",
     "text": [
      "(522,)\n",
      "(225,)\n",
      "(522,)\n",
      "(225,)\n"
     ]
    }
   ],
   "source": [
    "from sklearn.model_selection import train_test_split\n",
    "from sklearn.linear_model import LinearRegression\n",
    "x_train, x_test, y_train, y_test = train_test_split(x,y,test_size = 0.3,random_state = 0)\n",
    "\n",
    "print(x_train.shape)\n",
    "print(x_test.shape)\n",
    "print(y_train.shape)\n",
    "print(y_test.shape)"
   ]
  },
  {
   "cell_type": "code",
   "execution_count": 12,
   "metadata": {},
   "outputs": [
    {
     "name": "stdout",
     "output_type": "stream",
     "text": [
      "(522, 10415)\n",
      "(225, 10415)\n"
     ]
    }
   ],
   "source": [
    "# Preparing Vocabulory from the Training set and also Vectorising the Training set.\n",
    "from sklearn.feature_extraction.text import TfidfVectorizer\n",
    "vectoriser = TfidfVectorizer( stop_words = ['english'],ngram_range = [1,2]) \n",
    "x_train_vectorised = vectoriser.fit_transform(x_train.values.astype('U'))\n",
    "print(x_train_vectorised.shape)\n",
    "\n",
    "# Vectorising the test set\n",
    "x_test_vectorised = vectoriser.transform(x_test)\n",
    "print(x_test_vectorised.shape)"
   ]
  },
  {
   "cell_type": "code",
   "execution_count": 15,
   "metadata": {},
   "outputs": [
    {
     "name": "stdout",
     "output_type": "stream",
     "text": [
      "When kernel = 'linear'\n",
      "\n",
      "Confusion Matrix:\n",
      " [[77 40]\n",
      " [21 87]]\n",
      "\n",
      "\n",
      "Classification Report:\n",
      "              precision    recall  f1-score   support\n",
      "\n",
      "          0       0.79      0.66      0.72       117\n",
      "          1       0.69      0.81      0.74       108\n",
      "\n",
      "avg / total       0.74      0.73      0.73       225\n",
      "\n"
     ]
    }
   ],
   "source": [
    "from sklearn.svm import SVC\n",
    "from sklearn.metrics import confusion_matrix, classification_report\n",
    "svclassifier = SVC(kernel='linear', degree=8)  \n",
    "svclassifier.fit(x_train_vectorised, y_train) \n",
    "y_pred1 = svclassifier.predict(x_test_vectorised)\n",
    "print(\"When kernel = 'linear'\\n\")\n",
    "print(\"Confusion Matrix:\\n\",confusion_matrix(y_test, y_pred1))\n",
    "print (\"\\n\\nClassification Report:\\n\", classification_report(y_test, y_pred1))"
   ]
  },
  {
   "cell_type": "code",
   "execution_count": 17,
   "metadata": {},
   "outputs": [
    {
     "name": "stdout",
     "output_type": "stream",
     "text": [
      "Accuracy is  60.44444444444444\n"
     ]
    }
   ],
   "source": [
    "from sklearn.tree import DecisionTreeClassifier\n",
    "from sklearn.ensemble import RandomForestClassifier\n",
    "from sklearn.metrics import accuracy_score\n",
    "from sklearn import tree\n",
    "clf_entropy = DecisionTreeClassifier(criterion = \"entropy\")\n",
    "clf_entropy.fit(x_train_vectorised, y_train)\n",
    "y_pred_en = clf_entropy.predict(x_test_vectorised)\n",
    "print(\"Accuracy is \", accuracy_score(y_test,y_pred_en)*100)"
   ]
  },
  {
   "cell_type": "code",
   "execution_count": 18,
   "metadata": {},
   "outputs": [
    {
     "name": "stdout",
     "output_type": "stream",
     "text": [
      "Fitting 5 folds for each of 3 candidates, totalling 15 fits\n"
     ]
    },
    {
     "name": "stderr",
     "output_type": "stream",
     "text": [
      "[Parallel(n_jobs=-1)]: Done  15 out of  15 | elapsed:    3.5s finished\n"
     ]
    }
   ],
   "source": [
    "from sklearn.model_selection import GridSearchCV\n",
    "from sklearn.naive_bayes import MultinomialNB\n",
    "\n",
    "# making skeletal model\n",
    "classifier = MultinomialNB()                         \n",
    "# Set of parameters we want to try for out Model\n",
    "parameters = { 'alpha' : [0.13,0.15,0.17]}\n",
    "\n",
    "#Running the Model with above chosen parameter\n",
    "grid_search = GridSearchCV(estimator = classifier, param_grid = parameters , scoring = 'accuracy', cv = 5, n_jobs = -1 , verbose = 2)\n",
    "grid_scores = grid_search.fit(x_train_vectorised , y_train)"
   ]
  },
  {
   "cell_type": "code",
   "execution_count": 19,
   "metadata": {},
   "outputs": [
    {
     "name": "stdout",
     "output_type": "stream",
     "text": [
      "0.7624521072796935\n",
      "{'alpha': 0.17}\n"
     ]
    }
   ],
   "source": [
    "print( grid_search.best_score_)\n",
    "print(grid_search.best_params_)"
   ]
  },
  {
   "cell_type": "code",
   "execution_count": 20,
   "metadata": {},
   "outputs": [
    {
     "name": "stdout",
     "output_type": "stream",
     "text": [
      "Time taken for training MultinimialNB model is model = 0:00:00\n"
     ]
    }
   ],
   "source": [
    " #Making the Final Classification model.\n",
    "import datetime \n",
    "classifier = MultinomialNB( alpha = 0.15)\n",
    "tick =datetime.datetime.now()\n",
    "classifier.fit(x_train_vectorised, y_train)\n",
    "tock=datetime.datetime.now()\n",
    "lr_train_time = tock - tick\n",
    "print(\"Time taken for training MultinimialNB model is model = \" + str(lr_train_time))"
   ]
  },
  {
   "cell_type": "code",
   "execution_count": 21,
   "metadata": {},
   "outputs": [
    {
     "name": "stdout",
     "output_type": "stream",
     "text": [
      "Time taken to predict the data points in the Test set is : 0:00:00\n"
     ]
    }
   ],
   "source": [
    "tick=datetime.datetime.now()\n",
    "result = classifier.predict(x_test_vectorised)\n",
    "tock=datetime.datetime.now()\n",
    "lr_pred_train_time = tock - tick\n",
    "print('Time taken to predict the data points in the Test set is : ' + str(lr_pred_train_time))"
   ]
  },
  {
   "cell_type": "code",
   "execution_count": 22,
   "metadata": {},
   "outputs": [
    {
     "name": "stdout",
     "output_type": "stream",
     "text": [
      "the Accuracy on the Training set comes out to be : 1.0\n"
     ]
    }
   ],
   "source": [
    "k = classifier.score(x_train_vectorised, y_train)\n",
    "print('the Accuracy on the Training set comes out to be : ' + str(k))"
   ]
  },
  {
   "cell_type": "code",
   "execution_count": 23,
   "metadata": {},
   "outputs": [
    {
     "name": "stdout",
     "output_type": "stream",
     "text": [
      "             precision    recall  f1-score   support\n",
      "\n",
      "          0       0.81      0.74      0.77       117\n",
      "          1       0.74      0.81      0.78       108\n",
      "\n",
      "avg / total       0.78      0.77      0.77       225\n",
      "\n"
     ]
    }
   ],
   "source": [
    "import sklearn.metrics as skm\n",
    "print(skm.classification_report( y_test ,result  ))"
   ]
  },
  {
   "cell_type": "code",
   "execution_count": null,
   "metadata": {},
   "outputs": [],
   "source": []
  }
 ],
 "metadata": {
  "kernelspec": {
   "display_name": "Python 3",
   "language": "python",
   "name": "python3"
  },
  "language_info": {
   "codemirror_mode": {
    "name": "ipython",
    "version": 3
   },
   "file_extension": ".py",
   "mimetype": "text/x-python",
   "name": "python",
   "nbconvert_exporter": "python",
   "pygments_lexer": "ipython3",
   "version": "3.6.5"
  }
 },
 "nbformat": 4,
 "nbformat_minor": 2
}
